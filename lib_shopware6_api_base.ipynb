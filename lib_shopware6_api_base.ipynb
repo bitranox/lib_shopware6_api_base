{
 "cells": [
  {
   "cell_type": "code",
   "execution_count": null,
   "outputs": [],
   "source": [
    "# update pip and setuptools\n",
    "import sys\n",
    "!{sys.executable} -m pip install --upgrade pip\n",
    "!{sys.executable} -m pip install --upgrade setuptools\n",
    "\n",
    "# install lib_shopware6_api_base from pypi\n",
    "!{sys.executable} -m pip install --upgrade lib_shopware6_api_base\n",
    "\n",
    "# install lib_shopware6_api_base from github\n",
    "!{sys.executable} -m pip install --upgrade git+https://github.com/bitranox/lib_shopware6_api_base.git"
   ],
   "metadata": {
    "collapsed": false,
    "pycharm": {
     "name": "#%%\n"
    }
   }
  },
  {
   "metadata": {
    "trusted": true,
    "pycharm": {
     "name": "#%%\n"
    }
   },
   "cell_type": "code",
   "source": [
    "import lib_shopware6_api_base"
   ],
   "execution_count": null,
   "outputs": []
  }
 ],
 "metadata": {
  "language_info": {
   "name": "python",
   "version": "3.7.6",
   "mimetype": "text/x-python",
   "codemirror_mode": {
    "name": "ipython",
    "version": 3
   },
   "pygments_lexer": "ipython3",
   "nbconvert_exporter": "python",
   "file_extension": ".py"
  },
  "kernelspec": {
   "name": "python3",
   "display_name": "Python 3",
   "language": "python"
  }
 },
 "nbformat": 4,
 "nbformat_minor": 4
}